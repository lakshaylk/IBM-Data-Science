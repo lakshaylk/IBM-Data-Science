{
 "cells": [
  {
   "cell_type": "markdown",
   "id": "02c823a0-2edb-49fc-bcc2-30b5c4740833",
   "metadata": {},
   "source": [
    "# Data Science Tools and Ecosystem"
   ]
  },
  {
   "cell_type": "markdown",
   "id": "bef1ae06-95d7-470e-97bc-270646eb537b",
   "metadata": {},
   "source": [
    "## In this notebook, Data Science Tools and Ecosystems are summarized"
   ]
  },
  {
   "cell_type": "markdown",
   "id": "60447404-61ea-4347-bf1f-a13d0334811c",
   "metadata": {},
   "source": [
    "Some of the popular languages that Data Scientists use are:\n",
    "1. Python\n",
    "2. R\n",
    "3. SQL\n",
    "4. JavaScript\n",
    "5. Java\n",
    "6. Scala"
   ]
  },
  {
   "cell_type": "markdown",
   "id": "cd48c46c-f8a6-4191-9a29-0a4abfce7c73",
   "metadata": {},
   "source": [
    "Some of the commonly used libraries used by Data Scientists include:\n",
    "1. NumPy\n",
    "2. Keras\n",
    "3. TensorFlow\n",
    "4. Pandas\n",
    "5. PyTorch\n",
    "6. SciPy\n",
    "7. Scikit-Learn\n",
    "8. Matplotlib"
   ]
  },
  {
   "cell_type": "markdown",
   "id": "aba1be29-303c-4172-9f10-0a3109c781c8",
   "metadata": {
    "tags": []
   },
   "source": [
    "| Data Science Tools |\n",
    "| ------------------ |\n",
    "| SAS                |  \n",
    "| Apache Spark       |\n",
    "| BigML              |"
   ]
  },
  {
   "cell_type": "markdown",
   "id": "26387d39-a571-4d04-9d1c-0844c75ab74f",
   "metadata": {},
   "source": [
    "### Below are a few examples of evaluating arithmetic expressions in Python"
   ]
  },
  {
   "cell_type": "code",
   "execution_count": 3,
   "id": "7ab20b9b-8bdf-4119-8686-6e2c2e10aedd",
   "metadata": {
    "tags": []
   },
   "outputs": [
    {
     "data": {
      "text/plain": [
       "17"
      ]
     },
     "execution_count": 3,
     "metadata": {},
     "output_type": "execute_result"
    }
   ],
   "source": [
    "# This a simple arithmetic expression to mutiply then add integers\n",
    "(3*4)+5"
   ]
  },
  {
   "cell_type": "code",
   "execution_count": 5,
   "id": "782bde47-630e-4f13-8480-651adf8ac8ba",
   "metadata": {
    "tags": []
   },
   "outputs": [
    {
     "data": {
      "text/plain": [
       "3.3333333333333335"
      ]
     },
     "execution_count": 5,
     "metadata": {},
     "output_type": "execute_result"
    }
   ],
   "source": [
    "# This will convert 200 minutes to hours by diving by 60\n",
    "200 / 60"
   ]
  },
  {
   "cell_type": "markdown",
   "id": "27e29672-8e2d-4a0d-9216-e01e946dbd30",
   "metadata": {},
   "source": [
    "**Objectives:**\n",
    "- Learned popular languages in Data Science\n",
    "- Learned libraries used in Data Science\n",
    "- Learned tools used in Data Science\n",
    "- Evaluated arithmetic expressions in Python"
   ]
  },
  {
   "cell_type": "markdown",
   "id": "33ffbadd-e201-44d1-bf3d-50bc16ffbe03",
   "metadata": {},
   "source": [
    "## Author\n",
    "Lakshay ."
   ]
  },
  {
   "cell_type": "code",
   "execution_count": null,
   "id": "5758f180-818d-4ea9-af58-286acf365c25",
   "metadata": {},
   "outputs": [],
   "source": []
  }
 ],
 "metadata": {
  "kernelspec": {
   "display_name": "Python",
   "language": "python",
   "name": "conda-env-python-py"
  },
  "language_info": {
   "codemirror_mode": {
    "name": "ipython",
    "version": 3
   },
   "file_extension": ".py",
   "mimetype": "text/x-python",
   "name": "python",
   "nbconvert_exporter": "python",
   "pygments_lexer": "ipython3",
   "version": "3.7.12"
  }
 },
 "nbformat": 4,
 "nbformat_minor": 5
}
